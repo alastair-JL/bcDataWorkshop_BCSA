{
 "cells": [
  {
   "cell_type": "markdown",
   "metadata": {},
   "source": [
    "Gleened from https://medium.com/@galen.ballew/transferlearning-b65772083b47\n",
    "\n"
   ]
  },
  {
   "cell_type": "code",
   "execution_count": null,
   "metadata": {
    "collapsed": true
   },
   "outputs": [],
   "source": [
    "import tensorflow as tf\n",
    "from keras.applications.vgg16 import VGG16\n",
    "from keras.applications.vgg16 import preprocess_input\n",
    "from keras.models import Model\n",
    "from keras.layers import Dense, GlobalAveragePooling2D\n",
    "from keras import backend as K\n",
    "from keras.preprocessing import image\n",
    "import time\n",
    "\n",
    "from keras.models import Sequential\n",
    "import numpy\n",
    "\n",
    "#import inception with pre-trained weights. do not include fully #connected layers\n",
    "VGG16_base = VGG16(weights='imagenet', include_top=False)"
   ]
  },
  {
   "cell_type": "code",
   "execution_count": null,
   "metadata": {
    "collapsed": true
   },
   "outputs": [],
   "source": []
  },
  {
   "cell_type": "code",
   "execution_count": null,
   "metadata": {
    "collapsed": true
   },
   "outputs": [],
   "source": [
    "x = VGG16_base.output\n",
    "x = GlobalAveragePooling2D()(x)\n",
    "\n",
    "# create the full network so we can train on it\n",
    "VGG16_Bottle = Model(input=VGG16_base.input, output=x)\n"
   ]
  },
  {
   "cell_type": "code",
   "execution_count": null,
   "metadata": {
    "collapsed": true
   },
   "outputs": [],
   "source": []
  },
  {
   "cell_type": "code",
   "execution_count": null,
   "metadata": {
    "collapsed": true
   },
   "outputs": [],
   "source": [
    "# This part has been modified to download and image into a temp folder\n",
    "# Resize temp image, feed it throught the network\n",
    "# Based on the hazard rating give the appropriate label\n",
    "\n",
    "import PIL \n",
    "import os\n",
    "from PIL import Image\n",
    "# Generate dummy data\n",
    "import numpy as np\n",
    "import random\n",
    "import photoSort as ps\n",
    "import pandas as pd\n",
    "#data = np.random.random((1000, 155,200,3))\n",
    "#labels = np.random.randint(2, size=(1000, numberOfClasses))\n",
    "\n",
    "#VGG16_transfer.fit(data,labels, epochs=4, batch_size=16)\n",
    "    \n",
    "## !! SET THESE PARAMETERS !! ##\n",
    "NumIm = 7100 # The number of images you want\n",
    "maxInt = 7171 # The max entry of the csv file\n",
    "Its = 0\n",
    "numD = np.round(NumIm/2)  # Number of daisies\n",
    "\n",
    "\n",
    "data = np.zeros([NumIm,263,320,3])  # Initialize an array for all the data\n",
    "outData= np.zeros([NumIm,512])\n",
    "outLabels=np.zeros([NumIm,2])\n",
    "\n",
    "# Import the csv file\n",
    "directory = 'CSVliveshere/AsFoundPhotoIndex-Table1.csv'\n",
    "df = pd.read_csv(directory)\n",
    "\n",
    "# Now we will loop through the samples\n",
    "samples = random.sample(range(maxInt+1), NumIm) # This generates a random sample\n",
    "\n",
    "totalSize = 0\n",
    "low_number =0\n",
    "high_number=0\n",
    "\n",
    "startTime = time.time()\n",
    "\n",
    "# Loop through the samples and download the images into the correct folders (high or low)\n",
    "for k in samples:\n",
    "    print(Its)\n",
    "    print('k = ' + str(k))\n",
    "    photoLink = df['PHOTOLINK'][k]\n",
    "    hazardRating = df['HAZARDMAPRATING'][k]\n",
    "    \n",
    "    category,size = ps.download_image_into_tmp(photoLink,hazardRating )\n",
    "    \n",
    "    img = image.load_img('./tmp/temp.png', target_size=(224, 224))\n",
    "    img = img.convert('RGB')\n",
    "    \n",
    "    x = image.img_to_array(img)\n",
    "    x = np.expand_dims(x, axis=0)\n",
    "    x = preprocess_input(x)\n",
    "    preds = VGG16_Bottle.predict(x)\n",
    "    outData[Its,:]=preds[0,:]\n",
    "    \n",
    "    if(category=='low'):\n",
    "        outLabels[Its,0]=1\n",
    "        low_number += 1\n",
    "    else:\n",
    "        outLabels[Its,1]=1\n",
    "        high_number += 1\n",
    "    Its += 1\n",
    "    totalSize += size\n",
    "\n",
    "endloopTime = time.time()    \n",
    "\n",
    "print('\\n High Number: '+ str(high_number)+' '+ str(float(high_number)/float(NumIm)))\n",
    "print('\\n Low Number: '+ str(low_number)+ ' '+ str(float(low_number)/float(NumIm)))\n",
    "print('\\n Total Download Size: '+str(totalSize)+' Mbs')\n",
    "print('\\n Time of loop = {} s.'.format(endloopTime-startTime))\n",
    "    # Now that image has been placed into tmp, load it, \n",
    "\n",
    "    \n",
    "# Need to pull an image from the cloud\n",
    "# And then based on the Hazard rating, give the appropriate label\n",
    "# Low  = [1,0]\n",
    "# High = [0,1]"
   ]
  },
  {
   "cell_type": "code",
   "execution_count": null,
   "metadata": {
    "collapsed": true
   },
   "outputs": [],
   "source": [
    "print('\\n High Number: '+ str(high_number)+' '+ str(float(high_number)/float(NumIm)))"
   ]
  },
  {
   "cell_type": "code",
   "execution_count": null,
   "metadata": {
    "collapsed": true
   },
   "outputs": [],
   "source": [
    "outData=outData[1:Its-1,:]\n",
    "outLabels=outLabels[1:Its-1,:]"
   ]
  },
  {
   "cell_type": "code",
   "execution_count": null,
   "metadata": {
    "collapsed": true
   },
   "outputs": [],
   "source": [
    "\n",
    "np.savetxt(\"BCSAWeights.csv\",outData)\n",
    "np.savetxt(\"BCSALabels.csv\",outLabels)"
   ]
  },
  {
   "cell_type": "code",
   "execution_count": null,
   "metadata": {
    "collapsed": true
   },
   "outputs": [],
   "source": [
    "outData= np.loadtxt(\"BCSAWeights.csv\")\n",
    "outLabels= np.loadtxt(\"BCSALabels.csv\")\n",
    "\n",
    "\n",
    "\n"
   ]
  },
  {
   "cell_type": "code",
   "execution_count": null,
   "metadata": {
    "collapsed": true
   },
   "outputs": [],
   "source": []
  },
  {
   "cell_type": "code",
   "execution_count": null,
   "metadata": {
    "collapsed": true
   },
   "outputs": [],
   "source": [
    "myPerm= numpy.random.permutation(outData.shape[0])\n",
    "trainSize= round(0.8*outData.shape[0])"
   ]
  },
  {
   "cell_type": "code",
   "execution_count": null,
   "metadata": {
    "collapsed": true
   },
   "outputs": [],
   "source": [
    "outData=outData[myPerm,:]\n",
    "outLabels=outLabels[myPerm,:]\n",
    "\n",
    "trainData= outData[:trainSize,:]\n",
    "trainLabel= outLabels[:trainSize,:]\n",
    "testData= outData[trainSize:,:]\n",
    "testLabel= outLabels[trainSize:,:]"
   ]
  },
  {
   "cell_type": "code",
   "execution_count": null,
   "metadata": {},
   "outputs": [],
   "source": [
    "testLabel.shape"
   ]
  },
  {
   "cell_type": "code",
   "execution_count": null,
   "metadata": {},
   "outputs": [],
   "source": [
    "newModel = Sequential()\n",
    "newModel.add(Dense(256, input_dim=512, activation='relu'))\n",
    "newModel.add(Dense(256, activation='relu'))\n",
    "newModel.add(Dense(2, activation='sigmoid'))\n",
    "\n",
    "newModel.compile(optimizer='rmsprop',\n",
    "              loss='binary_crossentropy',\n",
    "              metrics=['accuracy'])"
   ]
  },
  {
   "cell_type": "code",
   "execution_count": null,
   "metadata": {},
   "outputs": [],
   "source": [
    "startTrainTime = time.time()\n",
    "newModel.fit(trainData,trainLabel, nb_epoch=150, batch_size=128)"
   ]
  },
  {
   "cell_type": "code",
   "execution_count": null,
   "metadata": {
    "collapsed": true
   },
   "outputs": [],
   "source": [
    "newModel.evaluate(testData,testLabel)[1]*100\n",
    "endTime = time.time()\n",
    "print('\\n Time to train = {} s.'.format(endTime - startTrainTime))\n",
    "print('\\n Total time of simulation = {} s.'.format(endTime-startTime))"
   ]
  },
  {
   "cell_type": "code",
   "execution_count": null,
   "metadata": {},
   "outputs": [],
   "source": [
    "newModel.evaluate(testData,testLabel)[1]*100"
   ]
  },
  {
   "cell_type": "code",
   "execution_count": null,
   "metadata": {},
   "outputs": [],
   "source": [
    "y_pred= newModel.predict(testData)[:,1]\n",
    "y_true = testLabel[:,1]\n",
    "\n",
    "y_pred_pos= np.round(y_pred)\n",
    "y_pred_neg= 1-y_pred_pos\n",
    "\n",
    "tp = sum(y_true * y_pred_pos)\n",
    "tn = sum((1-y_true) * y_pred_neg)\n",
    "\n",
    "fp = sum((1-y_true) * y_pred_pos)\n",
    "fn = sum (y_true * y_pred_neg)\n",
    "\n",
    "precision = tp/(tp+fp)\n",
    "recall= tp/(tp+fn)\n",
    "\n",
    "print(precision)\n",
    "print(recall)\n",
    "\n",
    "print((tp+tn)/(tp+tn+fp+fn))"
   ]
  },
  {
   "cell_type": "code",
   "execution_count": null,
   "metadata": {
    "collapsed": true
   },
   "outputs": [],
   "source": [
    "outData= np.loadtxt(\"BCSAWeights.csv\")\n",
    "np.save(\"BCSAWeights.npy\",outData)"
   ]
  },
  {
   "cell_type": "markdown",
   "metadata": {
    "collapsed": true
   },
   "source": []
  }
 ],
 "metadata": {
  "kernelspec": {
   "display_name": "Python 3",
   "language": "python",
   "name": "python3"
  },
  "language_info": {
   "codemirror_mode": {
    "name": "ipython",
    "version": 3
   },
   "file_extension": ".py",
   "mimetype": "text/x-python",
   "name": "python",
   "nbconvert_exporter": "python",
   "pygments_lexer": "ipython3",
   "version": "3.6.1"
  }
 },
 "nbformat": 4,
 "nbformat_minor": 2
}
