{
 "cells": [
  {
   "cell_type": "code",
   "execution_count": null,
   "metadata": {},
   "outputs": [],
   "source": [
    "import tensorflow as tf\n",
    "from keras.models import Sequential\n",
    "from keras.models import Model\n",
    "from keras.layers import Dense, GlobalAveragePooling2D\n",
    "import numpy as np\n",
    "import random\n",
    "import time\n",
    "\n",
    "#We import some packages."
   ]
  },
  {
   "cell_type": "code",
   "execution_count": null,
   "metadata": {},
   "outputs": [],
   "source": [
    "#We import the data.\n",
    "\n",
    "VectorizedData= np.load(\"SafetyWeights.npy\")\n",
    "Labels= np.load(\"SafetyLabels.npy\")\n",
    "\n",
    "\n",
    "rebalanceSamples=True\n",
    "if(rebalanceSamples):\n",
    "    locations=[]\n",
    "    fullList=np.zeros(1,dtype=np.int)\n",
    "    shortest= 99999999999999999999;\n",
    "    for k in range(trainLabel.shape[1]):\n",
    "        locations.append(np.where(Labels[:,k]==1)[0])\n",
    "        shortest=min(shortest,sum(Labels[:,k]==1))\n",
    "    for k in range(trainLabel.shape[1]):\n",
    "            fullList=  np.concatenate([fullList,np.random.choice(locations[k], shortest,replace=False)] )\n",
    "    fullList=fullList[1:]\n",
    "    VectorizedData=VectorizedData[fullList]\n",
    "    Labels=Labels[fullList]\n",
    "\n",
    "    #We shuffle and cut the data\n",
    "myPerm= np.random.permutation(VectorizedData.shape[0])\n",
    "trainSize= round(0.8*VectorizedData.shape[0])\n",
    "VectorizedData=VectorizedData[]\n",
    "\n",
    "\n",
    "#Note: If some sort of under or over sampling was to be\n",
    "#done in order to correct for imbalanced label sets\n",
    "#this is probably the place to do it.\n",
    "trainData= VectorizedData[:trainSize,:]\n",
    "trainLabel= Labels[:trainSize,:]\n",
    "testData= VectorizedData[trainSize:,:]\n",
    "testLabel= Labels[trainSize:,:]"
   ]
  },
  {
   "cell_type": "code",
   "execution_count": null,
   "metadata": {},
   "outputs": [],
   "source": [
    "np.random.choice(locations[k], shortest,replace=False)"
   ]
  },
  {
   "cell_type": "code",
   "execution_count": null,
   "metadata": {},
   "outputs": [],
   "source": [
    "Labels"
   ]
  },
  {
   "cell_type": "code",
   "execution_count": null,
   "metadata": {},
   "outputs": [],
   "source": [
    "#We create a model.\n",
    "\n",
    "#Please note that the model give here is completely Ad Hoc.\n",
    "#There are (hopefully) other models that work better.\n",
    "newModel = Sequential()\n",
    "newModel.add(Dense(256, input_dim=trainData.shape[1], activation='relu'))\n",
    "newModel.add(Dense(256, activation='relu'))\n",
    "newModel.add(Dense(testLabel.shape[1], activation='softmax'))\n",
    "\n",
    "newModel.compile(optimizer='rmsprop',\n",
    "              loss='binary_crossentropy',\n",
    "              metrics=['accuracy'])"
   ]
  },
  {
   "cell_type": "code",
   "execution_count": null,
   "metadata": {
    "collapsed": true
   },
   "outputs": [],
   "source": [
    "startTrainTime = time.time()\n",
    "newModel.fit(trainData,trainLabel, epochs=15, batch_size=128)\n",
    "endTime = time.time()\n",
    "print('\\n Time to train = {} s.'.format(endTime - startTrainTime))"
   ]
  },
  {
   "cell_type": "code",
   "execution_count": null,
   "metadata": {},
   "outputs": [],
   "source": [
    "y_pred= newModel.predict(testData)[:,1]\n",
    "y_true = testLabel[:,1]\n",
    "\n",
    "y_pred_pos= np.round(y_pred)\n",
    "y_pred_neg= 1-y_pred_pos\n",
    "\n",
    "tp = sum(y_true * y_pred_pos)\n",
    "tn = sum((1-y_true) * y_pred_neg)\n",
    "\n",
    "fp = sum((1-y_true) * y_pred_pos)\n",
    "fn = sum (y_true * y_pred_neg)\n",
    "\n",
    "precision = tp/(tp+fp)\n",
    "recall= tp/(tp+fn)\n",
    "\n",
    "print('Precision:')\n",
    "print(precision)\n",
    "print('\\n Recall:')\n",
    "print(recall)\n",
    "\n",
    "print('\\n Accuracy:')\n",
    "print((tp+tn)/(tp+tn+fp+fn))"
   ]
  }
 ],
 "metadata": {
  "kernelspec": {
   "display_name": "Python 3",
   "language": "python",
   "name": "python3"
  },
  "language_info": {
   "codemirror_mode": {
    "name": "ipython",
    "version": 3
   },
   "file_extension": ".py",
   "mimetype": "text/x-python",
   "name": "python",
   "nbconvert_exporter": "python",
   "pygments_lexer": "ipython3",
   "version": "3.6.1"
  }
 },
 "nbformat": 4,
 "nbformat_minor": 2
}
