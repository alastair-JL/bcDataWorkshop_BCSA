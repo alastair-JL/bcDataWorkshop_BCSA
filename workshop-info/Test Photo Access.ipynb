{
 "cells": [
  {
   "cell_type": "code",
   "execution_count": null,
   "metadata": {
    "collapsed": true
   },
   "outputs": [],
   "source": [
    "import boto3\n",
    "from botocore import UNSIGNED\n",
    "from botocore.client import Config\n",
    "# initialize s3 client"
   ]
  },
  {
   "cell_type": "code",
   "execution_count": null,
   "metadata": {
    "collapsed": true
   },
   "outputs": [],
   "source": [
    "s3_anon = boto3.client('s3', region_name='ca-central-1',\n",
    "                       config=Config(signature_version=UNSIGNED))\n",
    "#Creates a new unsigned session"
   ]
  },
  {
   "cell_type": "code",
   "execution_count": null,
   "metadata": {},
   "outputs": [],
   "source": [
    "# list objects in data directory\n",
    "bcsa_list = s3_anon.list_objects_v2(Bucket='bcsa-data', Delimiter='/')\n",
    "# get key names from object list\n",
    "bcsa_list\n",
    "#Note, we get a ``Dictionary'' in Json format."
   ]
  },
  {
   "cell_type": "code",
   "execution_count": null,
   "metadata": {
    "collapsed": true
   },
   "outputs": [],
   "source": [
    "bcsa_photos = s3_anon.list_objects_v2(Bucket='bcsa-data', Delimiter='/',Prefix=\"Photos/UBC Image Data/docs/0000000314/\")\n",
    "bcsa_photos['Contents']"
   ]
  },
  {
   "cell_type": "code",
   "execution_count": null,
   "metadata": {},
   "outputs": [],
   "source": [
    "testObject=(d['Key'] for d in bcsa_photos['Contents'][0])"
   ]
  },
  {
   "cell_type": "code",
   "execution_count": null,
   "metadata": {
    "collapsed": true
   },
   "outputs": [],
   "source": [
    "# Make sure target exists; create it if it does not\n",
    "try:\n",
    "    import os\n",
    "    os.mkdir('./tmp')\n",
    "except FileExistsError as FEE:\n",
    "    pass\n",
    "print('Fetching files:\\n{}'.format(bcsa_keys))\n",
    "# download $key to $target/$key\n",
    "import os\n",
    "for key in bcsa_keys:\n",
    "    fn = target + '/' + key\n",
    "    if os.path.isfile(fn):\n",
    "        exist_warning = 'Warning: the file {} already exists: ' + \\\n",
    "                        'skipping download...'\n",
    "        print(exist_warning.format(fn))\n",
    "    else:\n",
    "        s3_anon.download_file(Bucket='bcsa-data',\n",
    "                              Key=key,\n",
    "                              Filename=target+'/'+key)\n",
    "return\n",
    "\n",
    "s3_anon.download_file(Bucket='bcsa-data',\n",
    "                         Key=key,\n",
    "                         Filename=target+'/'+key)"
   ]
  },
  {
   "cell_type": "code",
   "execution_count": null,
   "metadata": {
    "collapsed": true
   },
   "outputs": [],
   "source": []
  },
  {
   "cell_type": "code",
   "execution_count": null,
   "metadata": {
    "collapsed": true
   },
   "outputs": [],
   "source": []
  }
 ],
 "metadata": {
  "kernelspec": {
   "display_name": "Python 3",
   "language": "python",
   "name": "python3"
  },
  "language_info": {
   "codemirror_mode": {
    "name": "ipython",
    "version": 3
   },
   "file_extension": ".py",
   "mimetype": "text/x-python",
   "name": "python",
   "nbconvert_exporter": "python",
   "pygments_lexer": "ipython3",
   "version": "3.6.1"
  }
 },
 "nbformat": 4,
 "nbformat_minor": 2
}
