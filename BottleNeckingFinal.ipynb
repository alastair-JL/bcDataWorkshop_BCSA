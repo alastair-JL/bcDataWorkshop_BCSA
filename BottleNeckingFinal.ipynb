{
 "cells": [
  {
   "cell_type": "code",
   "execution_count": null,
   "metadata": {},
   "outputs": [],
   "source": [
    "#Import Tensor Flow and Keras\n",
    "import tensorflow as tf\n",
    "from keras.models import Model\n",
    "from keras.layers import Dense, GlobalAveragePooling2D\n",
    "from keras import backend as K\n",
    "from keras.preprocessing import image\n",
    "\n",
    "#Import some image loading and image processing stuff.\n",
    "import PIL \n",
    "import os\n",
    "from PIL import Image\n",
    "import numpy as np\n",
    "import random\n",
    "import photoSort as ps  #Photosort is a custom Python file, To be stored nearby.\n",
    "import pandas as pd\n",
    "import time\n",
    "import csv"
   ]
  },
  {
   "cell_type": "code",
   "execution_count": null,
   "metadata": {
    "collapsed": true
   },
   "outputs": [],
   "source": [
    "#Import the actual model we are going to be using.\n",
    "from keras.applications.vgg16 import VGG16\n",
    "from keras.applications.vgg16 import preprocess_input\n",
    "\n",
    "#We couple also import some other model\n",
    "\n",
    "#from keras.applications.resnet50 import ResNet50\n",
    "#from keras.applications.resnet50 import preprocess_input\n",
    "\n",
    "#from keras.applications.inception_v3 import InceptionV3\n",
    "#from keras.applications.inception_v3 import preprocess_input\n",
    "\n",
    "# Other models also avaliable, see:\n",
    "# https://github.com/fchollet/keras/tree/master/keras/applications"
   ]
  },
  {
   "cell_type": "code",
   "execution_count": null,
   "metadata": {
    "collapsed": true
   },
   "outputs": [],
   "source": [
    "#Load in our selected base model.\n",
    "#Note that we tell the computer to use the weights calculated using the imagenet data set.\n",
    "#We ask for only the convolution layers (top=false)\n",
    "#And we requestion a max pooling layer on top. (as opposed to 'avg' or 'none')\n",
    "\n",
    "#All three model loading functions use the same parameters.\n",
    "\n",
    "baseModel = VGG16(weights='imagenet', include_top=False,pooling='max')\n",
    "#baseModel = InceptionV3(weights='imagenet', include_top=False,pooling='max')\n",
    "#baseModel = ResNet50(weights='imagenet', include_top=False,pooling='max')\n"
   ]
  },
  {
   "cell_type": "code",
   "execution_count": null,
   "metadata": {
    "collapsed": true
   },
   "outputs": [],
   "source": [
    "    \n",
    "## !! SET THESE PARAMETERS !! ##\n",
    "NumIm = 45 # The number of images you want\n",
    "            #Set this to -1 if you want to simply scrap ALL the images.\n",
    "directory = 'CSVliveshere/AsFoundPhotoIndex-Table1.csv'\n",
    "verbose=False\n",
    "\n",
    "#Import CSV file\n",
    "df = pd.read_csv(directory)\n",
    "\n",
    "#Create an list with the row numbers of samples from the file.\n",
    "maxInt = df.shape[0]-1 # The max entry of the csv file"
   ]
  },
  {
   "cell_type": "code",
   "execution_count": null,
   "metadata": {
    "collapsed": true
   },
   "outputs": [],
   "source": [
    "if(NumIm>0):\n",
    "    samples = random.sample(range(maxInt+1), NumIm) # This generates a random sample\n",
    "else:\n",
    "    samples = range(maxInt+1) # This generates a random sample\n",
    "\n",
    "#Create arrays to throw our output in when we are done.\n",
    "outLabels=np.zeros([len(samples),2])\n",
    "outData= np.zeros([len(samples),baseModel.output.shape[1]])\n",
    "listOfFilenames =[]\n",
    "#Here the data scales in size based on output shape of our base model\n",
    "\n"
   ]
  },
  {
   "cell_type": "code",
   "execution_count": null,
   "metadata": {},
   "outputs": [],
   "source": [
    "Its = 0 #Iteration number\n",
    "totalSize = 0 #total size of files downloaded.\n",
    "low_number =0 #Number of low hazard files downloaded\n",
    "high_number=0 #Number of high hazard files dowloaded\n",
    "\n",
    "\n",
    "start = time.time()\n",
    "\n",
    "# Loop through the samples and download the images into the correct folders (high or low)\n",
    "for k in samples:\n",
    "    photoLink = df['PHOTOLINK'][k]\n",
    "    hazardRating = df['HAZARDMAPRATING'][k]\n",
    "    \n",
    "    category,size = ps.download_image_into_tmp(photoLink,hazardRating )\n",
    "    if(verbose):\n",
    "        print(photoLink)\n",
    "        print(hazardRating)\n",
    "        print('\\n')\n",
    "        \n",
    "    listOfFilenames.append(photoLink)\n",
    "    \n",
    "    img = image.load_img('./tmp/temp.png', target_size=(224, 224))\n",
    "    x = image.img_to_array(img)\n",
    "    x = np.expand_dims(x, axis=0)\n",
    "    x = preprocess_input(x) \n",
    "    #I believe this preprocess method is imported along with the model being used.\n",
    "    #As such, it should take care of image size, etc for the most part.\n",
    "    #However the exact methods used may effect output in some way.\n",
    "    #For example, a different target size about may cause different results.\n",
    "    #For that reason, it may be worth considering how pre-processing is done,\n",
    "    #And how it effects your results.\n",
    "    \n",
    "    preds = baseModel.predict(x)\n",
    "    outData[Its,:]=preds[0,:]\n",
    "    \n",
    "    if(category=='low'):\n",
    "        outLabels[Its,0]=1\n",
    "        low_number += 1\n",
    "    else:\n",
    "        outLabels[Its,1]=1\n",
    "        high_number += 1\n",
    "    Its += 1\n",
    "    totalSize += size\n",
    "\n",
    "\n",
    "end = time.time()\n",
    "\n",
    "print('\\n High Number: '+ str(high_number)+'  Fraction High:'+ str(float(high_number)/float(NumIm)))\n",
    "print('\\n Low Number: '+ str(low_number)+ '  Fraction Low'+ str(float(low_number)/float(NumIm)))\n",
    "print('\\n Total Download Size: '+str(totalSize)+' Mbs')\n",
    "print('\\n Total Total Time Taken: '+ str(round(end-start))+' seconds')\n",
    "\n",
    "    # Now that image has been placed into tmp, load it, \n",
    "\n",
    "# Need to pull an image from the cloud\n",
    "# And then based on the Hazard rating, give the appropriate label\n",
    "# Low  = [1,0]\n",
    "# High = [0,1]"
   ]
  },
  {
   "cell_type": "code",
   "execution_count": null,
   "metadata": {},
   "outputs": [],
   "source": [
    "np.save(\"SafetyWeights.npy\",outData)\n",
    "np.save(\"SafetyLabels.npy\",outLabels)\n",
    "\n",
    "outData.shape\n",
    "#np.savetxt(\"SafetyWeights.csv\",outData)\n",
    "#np.savetxt(\"SafetyLabels.csv\",outLabels)\n",
    "#Note that because output files are purely numeric, saving as csv is\n",
    "#Not particularly efficient. Saving as a purely numeric numpy file\n",
    "#Significantly reduces file size.\n"
   ]
  },
  {
   "cell_type": "code",
   "execution_count": null,
   "metadata": {
    "collapsed": true
   },
   "outputs": [],
   "source": [
    "with open('SafetyFilenames.csv', 'w', newline='') as myfile:\n",
    "    wr =  csv.writer(myfile, delimiter=',')\n",
    "    wr.writerows(listOfFilenames)\n",
    "    \n",
    "    "
   ]
  }
 ],
 "metadata": {
  "kernelspec": {
   "display_name": "Python 3",
   "language": "python",
   "name": "python3"
  },
  "language_info": {
   "codemirror_mode": {
    "name": "ipython",
    "version": 3
   },
   "file_extension": ".py",
   "mimetype": "text/x-python",
   "name": "python",
   "nbconvert_exporter": "python",
   "pygments_lexer": "ipython3",
   "version": "3.6.1"
  }
 },
 "nbformat": 4,
 "nbformat_minor": 2
}
