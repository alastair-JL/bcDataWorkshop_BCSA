{
 "cells": [
  {
   "cell_type": "code",
   "execution_count": null,
   "metadata": {
    "collapsed": true
   },
   "outputs": [],
   "source": [
    "# We import the needed packages\n",
    "\n",
    "import pandas as pd\n",
    "import photoSort_size as ps\n",
    "import random as rd\n",
    "import os\n",
    "import numpy as np\n",
    "import random"
   ]
  },
  {
   "cell_type": "code",
   "execution_count": null,
   "metadata": {},
   "outputs": [],
   "source": [
    "# The directory of the file and summary statistics\n",
    "\n",
    "directory = 'CSVliveshere/AsFoundPhotoIndex-Table1.csv'\n",
    "df = pd.read_csv(directory)\n",
    "df.describe()"
   ]
  },
  {
   "cell_type": "code",
   "execution_count": null,
   "metadata": {
    "scrolled": true
   },
   "outputs": [],
   "source": [
    "# Now we will loop through the samples \n",
    "### Set your parameters here: ###\n",
    "maxInt = 7172 # The max entry of the csv file\n",
    "maxMbs = 10    # The maximum number of megabites we allow to be download\n",
    "TotalMbs = 0  # Total amount of Megabites downloaded and stored\n",
    "NumDL = 0 ;   # The total number of images that have been downloaded\n",
    "\n",
    "\n",
    "\n",
    "ranIx = []   # Initialize random idices\n",
    "for i in range(maxInt):\n",
    "    ranIx.append(i)\n",
    "\n",
    "random.shuffle(ranIx)  # Shuffle the idices\n",
    "k = 0   # Initialize the index\n",
    " \n",
    "    \n",
    "# Download and store the images\n",
    "while ((TotalMbs < maxMbs)&(NumDL < maxInt-1)):\n",
    "    \n",
    "    photoLink = df['PHOTOLINK'][ranIx[k]]\n",
    "    hazardRating = df['HAZARDMAPRATING'][ranIx[k]]\n",
    "    fileName = ps.sort_image_size(photoLink, hazardRating)\n",
    "    \n",
    "    statinfo = os.stat(fileName)    # Call up some info about the image\n",
    "    Size = statinfo.st_size/(1024**2) # Retrieve the size of the image\n",
    "    TotalMbs += Size       # Store the total size\n",
    "    NumDL += 1\n",
    "    k += 1\n",
    "    \n",
    "            \n",
    "print(\"Total amount of data downloaded and stored = {} Mbs.\".format(TotalMbs))  \n",
    "print(\"Total number of images downloaded and stored = {}.\".format(NumDL))"
   ]
  },
  {
   "cell_type": "code",
   "execution_count": null,
   "metadata": {},
   "outputs": [],
   "source": []
  }
 ],
 "metadata": {
  "kernelspec": {
   "display_name": "Python 3",
   "language": "python",
   "name": "python3"
  },
  "language_info": {
   "codemirror_mode": {
    "name": "ipython",
    "version": 3
   },
   "file_extension": ".py",
   "mimetype": "text/x-python",
   "name": "python",
   "nbconvert_exporter": "python",
   "pygments_lexer": "ipython3",
   "version": "3.6.1"
  }
 },
 "nbformat": 4,
 "nbformat_minor": 2
}
