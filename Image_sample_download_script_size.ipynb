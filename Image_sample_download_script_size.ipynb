{
 "cells": [
  {
   "cell_type": "code",
   "execution_count": null,
   "metadata": {
    "collapsed": true
   },
   "outputs": [],
   "source": [
    "# We import the needed packages\n",
    "\n",
    "import pandas as pd\n",
    "import photoSort_size as ps\n",
    "import random as rd\n",
    "import os\n",
    "import numpy as np"
   ]
  },
  {
   "cell_type": "code",
   "execution_count": null,
   "metadata": {},
   "outputs": [],
   "source": [
    "# The directory of the file and summary statistics\n",
    "\n",
    "directory = 'CSVliveshere/AsFoundPhotoIndex-Table1.csv'\n",
    "df = pd.read_csv(directory)\n",
    "df.describe()"
   ]
  },
  {
   "cell_type": "code",
   "execution_count": null,
   "metadata": {
    "scrolled": true
   },
   "outputs": [],
   "source": [
    "# Now we will loop through the samples\n",
    "maxInt = 7172 # The max entry of the csv file\n",
    "sampleSize =10  # The number of sample images that we want\n",
    "samples = rd.sample(range(maxInt+1), sampleSize) # This generates a random sample\n",
    "TotalMbs = 0  # Total amount of Megabites downloaded and stored\n",
    "\n",
    "\n",
    "# Loop through the samples and download the images into the correct folders (high or low)\n",
    "for k in samples:\n",
    "    photoLink = df['PHOTOLINK'][k]\n",
    "    hazardRating = df['HAZARDMAPRATING'][k]\n",
    "    fileName = ps.sort_image_size(photoLink, hazardRating)\n",
    "    statinfo = os.stat(fileName)\n",
    "    Size = statinfo.st_size/(1024**2)\n",
    "    TotalMbs += Size\n",
    "    #print(\" {} Mbs\".format(Size))\n",
    "            \n",
    "print(\"Total amount of data downloaded and stored = {} Mbs\".format(TotalMbs))   "
   ]
  },
  {
   "cell_type": "code",
   "execution_count": null,
   "metadata": {
    "collapsed": true
   },
   "outputs": [],
   "source": []
  }
 ],
 "metadata": {
  "kernelspec": {
   "display_name": "Python 3",
   "language": "python",
   "name": "python3"
  },
  "language_info": {
   "codemirror_mode": {
    "name": "ipython",
    "version": 3
   },
   "file_extension": ".py",
   "mimetype": "text/x-python",
   "name": "python",
   "nbconvert_exporter": "python",
   "pygments_lexer": "ipython3",
   "version": "3.6.1"
  }
 },
 "nbformat": 4,
 "nbformat_minor": 2
}
