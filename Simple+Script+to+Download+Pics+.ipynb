{
 "cells": [
  {
   "cell_type": "code",
   "execution_count": null,
   "metadata": {},
   "outputs": [],
   "source": [
    "# This simple program can be used to download images from the S3 bucket\n",
    "\n",
    "# import necessary libraries\n",
    "import boto3\n",
    "from botocore import UNSIGNED\n",
    "from botocore.client import Config\n",
    "from s3Download import listObjectKeys\n",
    "\n",
    "# initialize s3 client\n",
    "s3_anon = boto3.client('s3', region_name='ca-central-1',\n",
    "                       config=Config(signature_version=UNSIGNED))\n",
    "\n",
    "# list objects in data directory\n",
    "bcsa_list = s3_anon.list_objects_v2(Bucket='bcsa-data', Delimiter='/')\n",
    "\n",
    "# Pull a list of image directory\n",
    "bcsa_photos = s3_anon.list_objects_v2(Bucket = 'bcsa-data', Delimiter ='/', Prefix = 'Photos/UBC Image Data/docs/')\n",
    "\n",
    "# Lets us choose a specific folder \n",
    "i=15\n",
    "photo_folder = bcsa_photos['CommonPrefixes'][i]['Prefix']\n",
    "\n",
    "# For the specific folder we can now list all images in that file\n",
    "object_photo_list = listObjectKeys(s3_anon, 'bcsa-data', photo_folder, delimiter='/')\n",
    "\n",
    "#======================================================\n",
    "# Now let us choose a specific image in the folder\n",
    "j = 1\n",
    "key = object_photo_list[j]\n",
    "Filename = './tmp/temp.png' # The directory and the name of the file that you want to give the image file \n",
    "\n",
    "print('Image to be Downloaded: '+key)\n",
    "\n",
    "s3_anon.download_file(Bucket='bcsa-data', Key=key, Filename='./tmp/temp.png')"
   ]
  },
  {
   "cell_type": "code",
   "execution_count": null,
   "metadata": {
    "collapsed": true
   },
   "outputs": [],
   "source": []
  }
 ],
 "metadata": {
  "kernelspec": {
   "display_name": "Python 3",
   "language": "python",
   "name": "python3"
  },
  "language_info": {
   "codemirror_mode": {
    "name": "ipython",
    "version": 3
   },
   "file_extension": ".py",
   "mimetype": "text/x-python",
   "name": "python",
   "nbconvert_exporter": "python",
   "pygments_lexer": "ipython3",
   "version": "3.6.1"
  }
 },
 "nbformat": 4,
 "nbformat_minor": 2
}
