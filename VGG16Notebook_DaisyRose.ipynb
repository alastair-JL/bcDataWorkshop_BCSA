{
 "cells": [
  {
   "cell_type": "markdown",
   "metadata": {},
   "source": [
    "Gleened from https://medium.com/@galen.ballew/transferlearning-b65772083b47\n",
    "\n"
   ]
  },
  {
   "cell_type": "code",
   "execution_count": null,
   "metadata": {},
   "outputs": [],
   "source": [
    "import tensorflow as tf\n",
    "from keras.applications.vgg16 import VGG16\n",
    "from keras.applications.vgg16 import preprocess_input\n",
    "from keras.models import Model\n",
    "from keras.layers import Dense, GlobalAveragePooling2D\n",
    "from keras import backend as K\n",
    "\n",
    "#import inception with pre-trained weights. do not include fully #connected layers\n",
    "VGG16_base = VGG16(weights='imagenet', include_top=False)"
   ]
  },
  {
   "cell_type": "code",
   "execution_count": null,
   "metadata": {
    "collapsed": true
   },
   "outputs": [],
   "source": []
  },
  {
   "cell_type": "code",
   "execution_count": null,
   "metadata": {},
   "outputs": [],
   "source": [
    "# add a global spatial average pooling layer\n",
    "x = VGG16_base.output\n",
    "x = GlobalAveragePooling2D()(x)\n",
    "\n",
    "numberOfClasses =10\n",
    "# add a fully-connected layer\n",
    "x = Dense(512, activation='relu')(x)\n",
    "\n",
    "# and a fully connected output/classification layer\n",
    "predictions = Dense(numberOfClasses, activation='softmax')(x)\n",
    "\n",
    "# create the full network so we can train on it\n",
    "VGG16_transfer = Model(input=VGG16_base.input, output=predictions)\n",
    "\n",
    "for layer in VGG16_base.layers:\n",
    "    layer.trainable = False"
   ]
  },
  {
   "cell_type": "code",
   "execution_count": null,
   "metadata": {
    "collapsed": true
   },
   "outputs": [],
   "source": [
    "VGG16_transfer.compile(optimizer='rmsprop',\n",
    "              loss='binary_crossentropy',\n",
    "              metrics=['accuracy'])"
   ]
  },
  {
   "cell_type": "code",
   "execution_count": null,
   "metadata": {},
   "outputs": [],
   "source": [
    "import PIL \n",
    "import os\n",
    "from PIL import Image\n",
    "# Generate dummy data\n",
    "import numpy as np\n",
    "import random\n",
    "#data = np.random.random((1000, 155,200,3))\n",
    "#labels = np.random.randint(2, size=(1000, numberOfClasses))\n",
    "\n",
    "#VGG16_transfer.fit(data,labels, epochs=4, batch_size=16)\n",
    "    \n",
    "## !! SET THESE PARAMETERS !! ##\n",
    "NumIm = 10  # The number of images you want\n",
    "Its = 0\n",
    "numD = np.round(NumIm/2)  # Number of daisies\n",
    "\n",
    "\n",
    "data = np.zeros([NumIm,263,320,3])  # Initialize an array for all the data\n",
    "\n",
    "# Grab some daisies\n",
    "for file in os.listdir('./daisy'):\n",
    "    if (Its > numD-1):\n",
    "        break\n",
    "    \n",
    "    filename = os.fsdecode(file) # Get the file name \n",
    "    Im = (Image.open('./daisy/' + filename)) # Load the image\n",
    "    Im = Im.resize((320, 263), Image.ANTIALIAS)  # Reshape the image to the size we want\n",
    "    Im = np.asarray(Im)  # Convert to an array\n",
    "    \n",
    "    data[Its,:,:,:] = Im # Store the image\n",
    "    Its += 1\n",
    "    \n",
    "\n",
    "# Grab some daisies    \n",
    "for file in os.listdir('./roses'):\n",
    "    if (Its > NumIm-1):\n",
    "        break\n",
    "    \n",
    "    filename = os.fsdecode(file) # Get the file name \n",
    "    Im = (Image.open('./roses/' + filename)) # Load the image\n",
    "    Im = Im.resize((320, 263), Image.ANTIALIAS)  # Reshape the image to the size we want\n",
    "    Im = np.asarray(Im)  # Convert to an array\n",
    "    \n",
    "    data[Its,:,:,:] = Im  # Store the image\n",
    "    Its += 1\n",
    "\n",
    "# Create some shuffled idices    \n",
    "newData = np.zeros([NumIm,263,320,3])\n",
    "newIx = []\n",
    "for i in range(NumIm):\n",
    "    newIx.append(i)\n",
    "    \n",
    "random.shuffle(newIx)\n",
    "\n",
    "# Shuffle the images\n",
    "for i in range(NumIm):\n",
    "    Indx = newIx[i]\n",
    "    newData[i,:,:,:] = data[Indx,:,:,:]\n",
    "\n",
    "data = newData  # New Shuffled data"
   ]
  },
  {
   "cell_type": "code",
   "execution_count": null,
   "metadata": {},
   "outputs": [],
   "source": [
    "x = VGG16_base.output\n",
    "x = GlobalAveragePooling2D()(x)\n",
    "\n",
    "# create the full network so we can train on it\n",
    "VGG16_Bottle = Model(input=VGG16_base.input, output=x)\n",
    "globAvgBottleOut= VGG16_Bottle.predict(data)\n",
    "rawBottleOut= VGG16_base.predict(data)"
   ]
  },
  {
   "cell_type": "code",
   "execution_count": null,
   "metadata": {},
   "outputs": [],
   "source": [
    "globAvgBottleOut.shape"
   ]
  },
  {
   "cell_type": "code",
   "execution_count": null,
   "metadata": {},
   "outputs": [],
   "source": [
    "rawBottleOut.shape"
   ]
  }
 ],
 "metadata": {
  "kernelspec": {
   "display_name": "Python 3",
   "language": "python",
   "name": "python3"
  },
  "language_info": {
   "codemirror_mode": {
    "name": "ipython",
    "version": 3
   },
   "file_extension": ".py",
   "mimetype": "text/x-python",
   "name": "python",
   "nbconvert_exporter": "python",
   "pygments_lexer": "ipython3",
   "version": "3.6.1"
  }
 },
 "nbformat": 4,
 "nbformat_minor": 2
}
